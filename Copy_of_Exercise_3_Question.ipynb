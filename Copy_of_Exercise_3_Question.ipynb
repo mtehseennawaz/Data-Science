{
  "nbformat": 4,
  "nbformat_minor": 0,
  "metadata": {
    "colab": {
      "name": "Copy of Exercise 3 - Question.ipynb",
      "version": "0.3.2",
      "provenance": [],
      "collapsed_sections": []
    },
    "kernelspec": {
      "name": "python3",
      "display_name": "Python 3"
    }
  },
  "cells": [
    {
      "cell_type": "markdown",
      "metadata": {
        "id": "iQjHqsmTAVLU",
        "colab_type": "text"
      },
      "source": [
        "## Exercise 3\n",
        "In the videos you looked at how you would improve Fashion MNIST using Convolutions. For your exercise see if you can improve MNIST to 99.8% accuracy or more using only a single convolutional layer and a single MaxPooling 2D. You should stop training once the accuracy goes above this amount. It should happen in less than 20 epochs, so it's ok to hard code the number of epochs for training, but your training must end once it hits the above metric. If it doesn't, then you'll need to redesign your layers.\n",
        "\n",
        "I've started the code for you -- you need to finish it!\n",
        "\n",
        "When 99.8% accuracy has been hit, you should print out the string \"Reached 99.8% accuracy so cancelling training!\"\n"
      ]
    },
    {
      "cell_type": "code",
      "metadata": {
        "id": "sfQRyaJWAIdg",
        "colab_type": "code",
        "outputId": "9006cb78-1a99-44d4-ea3f-33887c38b4c4",
        "colab": {
          "base_uri": "https://localhost:8080/",
          "height": 336
        }
      },
      "source": [
        "import tensorflow as tf\n",
        "\n",
        "\n",
        "class myCallback(tf.keras.callbacks.Callback):\n",
        "  def on_epoch_end(self, epoch, logs={}):\n",
        "    if(logs.get('acc')>0.998):\n",
        "      print(\"\\nReached 99.8% accuracy so cancelling training!\")\n",
        "      self.model.stop_training = True\n",
        "callbacks=myCallback()\n",
        "mnist = tf.keras.datasets.mnist\n",
        "(training_images, training_labels), (test_images, test_labels) = mnist.load_data()\n",
        "\n",
        "training_images=training_images.reshape(60000, 28, 28, 1)\n",
        "training_images=training_images / 255.0\n",
        "test_images = test_images.reshape(10000, 28, 28, 1)\n",
        "test_images=test_images/255.0\n",
        "model = tf.keras.models.Sequential([tf.keras.layers.Conv2D(64,(3,3),activation='relu',input_shape=(28,28,1)), #it will apply 64 filters of 3*3. input size of image 28*28 and 1 is mean\n",
        "                                                                                                              # that using single byte for color scale beacuse the image are grey scal\n",
        "                                                                                                              #it will return image of 26*26 beacuse all the corners of image matrix does not have neighbour\n",
        "                                    tf.keras.layers.MaxPooling2D(2,2), #It will form 2*2 matrix and pick the max pixel value so it will return 13*13 i mean half of 26*26\n",
        "                                    tf.keras.layers.Flatten(),      #convert 13*13 image into 1D\n",
        "                                    tf.keras.layers.Dense(128,activation='relu'),# relu ignore the negtive values\n",
        "                                    tf.keras.layers.Dense(10,activation='softmax')  #softmax apply L2 differenc and add penalty if the image is not what we are expecting according to label\n",
        "    # YOUR CODE STARTS HERE\n",
        "\n",
        "    # YOUR CODE ENDS HERE\n",
        "])\n",
        "model.compile(optimizer='adam', loss='sparse_categorical_crossentropy', metrics=['accuracy'])\n",
        "model.fit(training_images, training_labels, epochs=10, callbacks=[callbacks])\n",
        "\n"
      ],
      "execution_count": 0,
      "outputs": [
        {
          "output_type": "stream",
          "text": [
            "Epoch 1/10\n",
            "60000/60000 [==============================] - 59s 986us/sample - loss: 0.1370 - acc: 0.9578\n",
            "Epoch 2/10\n",
            "60000/60000 [==============================] - 58s 973us/sample - loss: 0.0464 - acc: 0.9857\n",
            "Epoch 3/10\n",
            "60000/60000 [==============================] - 58s 959us/sample - loss: 0.0293 - acc: 0.9907\n",
            "Epoch 4/10\n",
            "60000/60000 [==============================] - 57s 955us/sample - loss: 0.0183 - acc: 0.9941\n",
            "Epoch 5/10\n",
            "60000/60000 [==============================] - 58s 963us/sample - loss: 0.0124 - acc: 0.9961\n",
            "Epoch 6/10\n",
            "60000/60000 [==============================] - 58s 973us/sample - loss: 0.0092 - acc: 0.9968\n",
            "Epoch 7/10\n",
            "60000/60000 [==============================] - 58s 964us/sample - loss: 0.0072 - acc: 0.9975\n",
            "Epoch 8/10\n",
            "59968/60000 [============================>.] - ETA: 0s - loss: 0.0042 - acc: 0.9987\n",
            "Reached 99.8% accuracy so cancelling training!\n",
            "60000/60000 [==============================] - 58s 970us/sample - loss: 0.0042 - acc: 0.9987\n"
          ],
          "name": "stdout"
        },
        {
          "output_type": "execute_result",
          "data": {
            "text/plain": [
              "<tensorflow.python.keras.callbacks.History at 0x7f10ce86eac8>"
            ]
          },
          "metadata": {
            "tags": []
          },
          "execution_count": 5
        }
      ]
    }
  ]
}